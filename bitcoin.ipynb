{
  "nbformat": 4,
  "nbformat_minor": 0,
  "metadata": {
    "colab": {
      "name": "bitcoin.ipynb",
      "provenance": [],
      "collapsed_sections": []
    },
    "kernelspec": {
      "name": "python3",
      "display_name": "Python 3"
    },
    "language_info": {
      "name": "python"
    }
  },
  "cells": [
    {
      "cell_type": "markdown",
      "source": [
        "# Предсказание курса криптовалюты"
      ],
      "metadata": {
        "id": "paoMElrnaxnl"
      }
    },
    {
      "cell_type": "code",
      "execution_count": 2,
      "metadata": {
        "id": "ZXxPL0FKapub"
      },
      "outputs": [],
      "source": [
        "import pandas as pd"
      ]
    },
    {
      "cell_type": "code",
      "source": [
        "bitcoin = pd.read_csv('/content/sample_data/BTCUSD_daily.csv', index_col=0)"
      ],
      "metadata": {
        "id": "PxgfLfGEbZdb"
      },
      "execution_count": 3,
      "outputs": []
    },
    {
      "cell_type": "markdown",
      "source": [
        "*цена на открытие , закрытие, объем торгов, *"
      ],
      "metadata": {
        "id": "cyr6bhQqcHNL"
      }
    },
    {
      "cell_type": "code",
      "source": [
        "bitcoin.describe()"
      ],
      "metadata": {
        "colab": {
          "base_uri": "https://localhost:8080/",
          "height": 300
        },
        "id": "EuLu7ridcdmx",
        "outputId": "6df6ba7f-c180-4aaf-ea82-de1bff8fd074"
      },
      "execution_count": 4,
      "outputs": [
        {
          "output_type": "execute_result",
          "data": {
            "text/plain": [
              "               open          high           low         close    Volume USD  \\\n",
              "count   2652.000000   2652.000000   2652.000000   2652.000000  2.652000e+03   \n",
              "mean   12817.097939  13186.267542  12399.817371  12828.207655  1.497664e+08   \n",
              "std    16824.413997  17289.418026  16283.433540  16826.150324  2.171489e+08   \n",
              "min      212.630000    223.200000    162.000000    212.630000  0.000000e+00   \n",
              "25%      756.692500    773.582500    743.492500    766.082500  1.362017e+07   \n",
              "50%     6753.050000   6939.300000   6602.450000   6756.100000  6.404094e+07   \n",
              "75%    11473.000000  11791.500000  11124.500000  11478.250000  2.004097e+08   \n",
              "max    67526.000000  68958.000000  66326.000000  67526.000000  2.491339e+09   \n",
              "\n",
              "          Volume BTC  \n",
              "count    2652.000000  \n",
              "mean    18381.609947  \n",
              "std     20526.790610  \n",
              "min         0.000000  \n",
              "25%      5678.644934  \n",
              "50%     10971.855000  \n",
              "75%     23124.732500  \n",
              "max    266768.610000  "
            ],
            "text/html": [
              "\n",
              "  <div id=\"df-0b5f0f1e-52eb-4ac2-8f81-878c0462fd0c\">\n",
              "    <div class=\"colab-df-container\">\n",
              "      <div>\n",
              "<style scoped>\n",
              "    .dataframe tbody tr th:only-of-type {\n",
              "        vertical-align: middle;\n",
              "    }\n",
              "\n",
              "    .dataframe tbody tr th {\n",
              "        vertical-align: top;\n",
              "    }\n",
              "\n",
              "    .dataframe thead th {\n",
              "        text-align: right;\n",
              "    }\n",
              "</style>\n",
              "<table border=\"1\" class=\"dataframe\">\n",
              "  <thead>\n",
              "    <tr style=\"text-align: right;\">\n",
              "      <th></th>\n",
              "      <th>open</th>\n",
              "      <th>high</th>\n",
              "      <th>low</th>\n",
              "      <th>close</th>\n",
              "      <th>Volume USD</th>\n",
              "      <th>Volume BTC</th>\n",
              "    </tr>\n",
              "  </thead>\n",
              "  <tbody>\n",
              "    <tr>\n",
              "      <th>count</th>\n",
              "      <td>2652.000000</td>\n",
              "      <td>2652.000000</td>\n",
              "      <td>2652.000000</td>\n",
              "      <td>2652.000000</td>\n",
              "      <td>2.652000e+03</td>\n",
              "      <td>2652.000000</td>\n",
              "    </tr>\n",
              "    <tr>\n",
              "      <th>mean</th>\n",
              "      <td>12817.097939</td>\n",
              "      <td>13186.267542</td>\n",
              "      <td>12399.817371</td>\n",
              "      <td>12828.207655</td>\n",
              "      <td>1.497664e+08</td>\n",
              "      <td>18381.609947</td>\n",
              "    </tr>\n",
              "    <tr>\n",
              "      <th>std</th>\n",
              "      <td>16824.413997</td>\n",
              "      <td>17289.418026</td>\n",
              "      <td>16283.433540</td>\n",
              "      <td>16826.150324</td>\n",
              "      <td>2.171489e+08</td>\n",
              "      <td>20526.790610</td>\n",
              "    </tr>\n",
              "    <tr>\n",
              "      <th>min</th>\n",
              "      <td>212.630000</td>\n",
              "      <td>223.200000</td>\n",
              "      <td>162.000000</td>\n",
              "      <td>212.630000</td>\n",
              "      <td>0.000000e+00</td>\n",
              "      <td>0.000000</td>\n",
              "    </tr>\n",
              "    <tr>\n",
              "      <th>25%</th>\n",
              "      <td>756.692500</td>\n",
              "      <td>773.582500</td>\n",
              "      <td>743.492500</td>\n",
              "      <td>766.082500</td>\n",
              "      <td>1.362017e+07</td>\n",
              "      <td>5678.644934</td>\n",
              "    </tr>\n",
              "    <tr>\n",
              "      <th>50%</th>\n",
              "      <td>6753.050000</td>\n",
              "      <td>6939.300000</td>\n",
              "      <td>6602.450000</td>\n",
              "      <td>6756.100000</td>\n",
              "      <td>6.404094e+07</td>\n",
              "      <td>10971.855000</td>\n",
              "    </tr>\n",
              "    <tr>\n",
              "      <th>75%</th>\n",
              "      <td>11473.000000</td>\n",
              "      <td>11791.500000</td>\n",
              "      <td>11124.500000</td>\n",
              "      <td>11478.250000</td>\n",
              "      <td>2.004097e+08</td>\n",
              "      <td>23124.732500</td>\n",
              "    </tr>\n",
              "    <tr>\n",
              "      <th>max</th>\n",
              "      <td>67526.000000</td>\n",
              "      <td>68958.000000</td>\n",
              "      <td>66326.000000</td>\n",
              "      <td>67526.000000</td>\n",
              "      <td>2.491339e+09</td>\n",
              "      <td>266768.610000</td>\n",
              "    </tr>\n",
              "  </tbody>\n",
              "</table>\n",
              "</div>\n",
              "      <button class=\"colab-df-convert\" onclick=\"convertToInteractive('df-0b5f0f1e-52eb-4ac2-8f81-878c0462fd0c')\"\n",
              "              title=\"Convert this dataframe to an interactive table.\"\n",
              "              style=\"display:none;\">\n",
              "        \n",
              "  <svg xmlns=\"http://www.w3.org/2000/svg\" height=\"24px\"viewBox=\"0 0 24 24\"\n",
              "       width=\"24px\">\n",
              "    <path d=\"M0 0h24v24H0V0z\" fill=\"none\"/>\n",
              "    <path d=\"M18.56 5.44l.94 2.06.94-2.06 2.06-.94-2.06-.94-.94-2.06-.94 2.06-2.06.94zm-11 1L8.5 8.5l.94-2.06 2.06-.94-2.06-.94L8.5 2.5l-.94 2.06-2.06.94zm10 10l.94 2.06.94-2.06 2.06-.94-2.06-.94-.94-2.06-.94 2.06-2.06.94z\"/><path d=\"M17.41 7.96l-1.37-1.37c-.4-.4-.92-.59-1.43-.59-.52 0-1.04.2-1.43.59L10.3 9.45l-7.72 7.72c-.78.78-.78 2.05 0 2.83L4 21.41c.39.39.9.59 1.41.59.51 0 1.02-.2 1.41-.59l7.78-7.78 2.81-2.81c.8-.78.8-2.07 0-2.86zM5.41 20L4 18.59l7.72-7.72 1.47 1.35L5.41 20z\"/>\n",
              "  </svg>\n",
              "      </button>\n",
              "      \n",
              "  <style>\n",
              "    .colab-df-container {\n",
              "      display:flex;\n",
              "      flex-wrap:wrap;\n",
              "      gap: 12px;\n",
              "    }\n",
              "\n",
              "    .colab-df-convert {\n",
              "      background-color: #E8F0FE;\n",
              "      border: none;\n",
              "      border-radius: 50%;\n",
              "      cursor: pointer;\n",
              "      display: none;\n",
              "      fill: #1967D2;\n",
              "      height: 32px;\n",
              "      padding: 0 0 0 0;\n",
              "      width: 32px;\n",
              "    }\n",
              "\n",
              "    .colab-df-convert:hover {\n",
              "      background-color: #E2EBFA;\n",
              "      box-shadow: 0px 1px 2px rgba(60, 64, 67, 0.3), 0px 1px 3px 1px rgba(60, 64, 67, 0.15);\n",
              "      fill: #174EA6;\n",
              "    }\n",
              "\n",
              "    [theme=dark] .colab-df-convert {\n",
              "      background-color: #3B4455;\n",
              "      fill: #D2E3FC;\n",
              "    }\n",
              "\n",
              "    [theme=dark] .colab-df-convert:hover {\n",
              "      background-color: #434B5C;\n",
              "      box-shadow: 0px 1px 3px 1px rgba(0, 0, 0, 0.15);\n",
              "      filter: drop-shadow(0px 1px 2px rgba(0, 0, 0, 0.3));\n",
              "      fill: #FFFFFF;\n",
              "    }\n",
              "  </style>\n",
              "\n",
              "      <script>\n",
              "        const buttonEl =\n",
              "          document.querySelector('#df-0b5f0f1e-52eb-4ac2-8f81-878c0462fd0c button.colab-df-convert');\n",
              "        buttonEl.style.display =\n",
              "          google.colab.kernel.accessAllowed ? 'block' : 'none';\n",
              "\n",
              "        async function convertToInteractive(key) {\n",
              "          const element = document.querySelector('#df-0b5f0f1e-52eb-4ac2-8f81-878c0462fd0c');\n",
              "          const dataTable =\n",
              "            await google.colab.kernel.invokeFunction('convertToInteractive',\n",
              "                                                     [key], {});\n",
              "          if (!dataTable) return;\n",
              "\n",
              "          const docLinkHtml = 'Like what you see? Visit the ' +\n",
              "            '<a target=\"_blank\" href=https://colab.research.google.com/notebooks/data_table.ipynb>data table notebook</a>'\n",
              "            + ' to learn more about interactive tables.';\n",
              "          element.innerHTML = '';\n",
              "          dataTable['output_type'] = 'display_data';\n",
              "          await google.colab.output.renderOutput(dataTable, element);\n",
              "          const docLink = document.createElement('div');\n",
              "          docLink.innerHTML = docLinkHtml;\n",
              "          element.appendChild(docLink);\n",
              "        }\n",
              "      </script>\n",
              "    </div>\n",
              "  </div>\n",
              "  "
            ]
          },
          "metadata": {},
          "execution_count": 4
        }
      ]
    },
    {
      "cell_type": "code",
      "source": [
        "bitcoin.date = pd.to_datetime(bitcoin.date) #привеcти к формату дата"
      ],
      "metadata": {
        "id": "q6RvOOo-eMot"
      },
      "execution_count": 5,
      "outputs": []
    },
    {
      "cell_type": "code",
      "source": [
        "import matplotlib.pyplot as plt\n",
        "\n",
        "plt.plot(bitcoin.date, bitcoin.open, label='Open (USD)')\n",
        "plt.legend() #отобразить легенду\n",
        "plt.show() #отобразить график\n"
      ],
      "metadata": {
        "colab": {
          "base_uri": "https://localhost:8080/",
          "height": 267
        },
        "id": "QpsSu-Cnc1r7",
        "outputId": "609375d1-a937-41c2-86a0-5a36fe05249b"
      },
      "execution_count": 6,
      "outputs": [
        {
          "output_type": "display_data",
          "data": {
            "text/plain": [
              "<Figure size 432x288 with 1 Axes>"
            ],
            "image/png": "[encoded data removed]"
          },
          "metadata": {
            "needs_background": "light"
          }
        }
      ]
    },
    {
      "cell_type": "code",
      "source": [
        "import matplotlib.pyplot as plt\n",
        "\n",
        "plt.plot(bitcoin.date, bitcoin['Volume USD']\t, label='Open (USD)')\n",
        "plt.legend() #отобразить легенду\n",
        "plt.show() #отобразить график\n"
      ],
      "metadata": {
        "colab": {
          "base_uri": "https://localhost:8080/",
          "height": 276
        },
        "id": "MKVTYfmyelib",
        "outputId": "76037f6f-96be-4ce9-a7de-d46189686bc2"
      },
      "execution_count": 7,
      "outputs": [
        {
          "output_type": "display_data",
          "data": {
            "text/plain": [
              "<Figure size 432x288 with 1 Axes>"
            ],
            "image/png": "[encoded data removed]"
          },
          "metadata": {
            "needs_background": "light"
          }
        }
      ]
    },
    {
      "cell_type": "code",
      "source": [
        "import matplotlib.pyplot as plt\n",
        "\n",
        "plt.plot(bitcoin.date, bitcoin['Volume BTC']\t, label='Open (USD)')\n",
        "plt.legend() #отобразить легенду\n",
        "plt.show() #отобразить график"
      ],
      "metadata": {
        "colab": {
          "base_uri": "https://localhost:8080/",
          "height": 265
        },
        "id": "EL6V_nLTezgT",
        "outputId": "f627d53e-a5bd-4ce0-ea2b-19ac081b5f42"
      },
      "execution_count": 8,
      "outputs": [
        {
          "output_type": "display_data",
          "data": {
            "text/plain": [
              "<Figure size 432x288 with 1 Axes>"
            ],
            "image/png": "[encoded data removed]"
          },
          "metadata": {
            "needs_background": "light"
          }
        }
      ]
    },
    {
      "cell_type": "markdown",
      "source": [
        "Вывод: **Цена выросла и теперь за эти деньги можно купить меньше монет** **Текст, выделенный полужирным шрифтом**"
      ],
      "metadata": {
        "id": "ffooO6bmfGx8"
      }
    },
    {
      "cell_type": "code",
      "source": [
        "import matplotlib.pyplot as plt\n",
        "# разница графиков цены открытия и закрытия\n",
        "plt.plot(bitcoin.date,  bitcoin.open-bitcoin.close, label='Open - close (USD)')\n",
        "plt.legend() #отобразить легенду\n",
        "plt.show() #отобразить график"
      ],
      "metadata": {
        "colab": {
          "base_uri": "https://localhost:8080/",
          "height": 265
        },
        "id": "NkzJ0nRCfHXH",
        "outputId": "be53a6db-c656-4c4d-8e0b-c51a342ecb3d"
      },
      "execution_count": 9,
      "outputs": [
        {
          "output_type": "display_data",
          "data": {
            "text/plain": [
              "<Figure size 432x288 with 1 Axes>"
            ],
            "image/png": "[encoded data removed]"
          },
          "metadata": {
            "needs_background": "light"
          }
        }
      ]
    },
    {
      "cell_type": "code",
      "source": [
        "bitcoin.date"
      ],
      "metadata": {
        "colab": {
          "base_uri": "https://localhost:8080/"
        },
        "id": "h0i-8TmbhjiR",
        "outputId": "5c36feeb-0191-4bb9-8ec7-1bc14ff829c4"
      },
      "execution_count": 10,
      "outputs": [
        {
          "output_type": "execute_result",
          "data": {
            "text/plain": [
              "0      2015-02-09\n",
              "1      2015-02-10\n",
              "2      2015-02-11\n",
              "3      2015-02-12\n",
              "4      2015-02-13\n",
              "          ...    \n",
              "2647   2022-05-10\n",
              "2648   2022-05-11\n",
              "2649   2022-05-12\n",
              "2650   2022-05-13\n",
              "2651   2022-05-14\n",
              "Name: date, Length: 2652, dtype: datetime64[ns]"
            ]
          },
          "metadata": {},
          "execution_count": 10
        }
      ]
    },
    {
      "cell_type": "code",
      "source": [
        "bitcoin['openClose'] = bitcoin.open - bitcoin.close\n",
        "bitcoin['highlow'] = bitcoin.high - bitcoin.low\n",
        "\n",
        "bitcoin['open_high'] = bitcoin['openClose'] / bitcoin['highlow']\n",
        "\n",
        "bitcoin['month'] = bitcoin.date.dt.month\n",
        "bitcoin['year'] = bitcoin.date.dt.year\n",
        "bitcoin['weekday'] = bitcoin.date.dt.weekday"
      ],
      "metadata": {
        "id": "gY8cU15bfx9U"
      },
      "execution_count": 11,
      "outputs": []
    },
    {
      "cell_type": "code",
      "source": [
        "bitcoin.groupby('weekday')['open'].mean()\n",
        "# для каждого дня недели получаем среднюю цену открытия"
      ],
      "metadata": {
        "colab": {
          "base_uri": "https://localhost:8080/"
        },
        "id": "YdlmcjdTlBt0",
        "outputId": "4c258546-5cb2-47f2-ad10-fcfce4afa74e"
      },
      "execution_count": 12,
      "outputs": [
        {
          "output_type": "execute_result",
          "data": {
            "text/plain": [
              "weekday\n",
              "0    12780.331231\n",
              "1    12816.260321\n",
              "2    12811.281318\n",
              "3    12859.977424\n",
              "4    12805.182160\n",
              "5    12830.904546\n",
              "6    12815.745005\n",
              "Name: open, dtype: float64"
            ]
          },
          "metadata": {},
          "execution_count": 12
        }
      ]
    },
    {
      "cell_type": "code",
      "source": [
        "# Средняя цена открытия за последние 7 дней\n",
        "# Скользящие окна\n",
        "bitcoin['open_mean_7d'] = bitcoin['open'].shift(1).rolling(window=7).mean() # shift сдвиг на 1 день\n",
        "bitcoin['max_volume_btc_30d'] = bitcoin['Volume BTC'].shift(1).rolling(window=30).max()\n",
        "bitcoin['min_close_14d'] = bitcoin['close'].shift(1).rolling(window=14).min()\n",
        "\n"
      ],
      "metadata": {
        "id": "a_AB7z-Nl204"
      },
      "execution_count": 13,
      "outputs": []
    },
    {
      "cell_type": "code",
      "source": [
        "for day in range(1,8):\n",
        "  bitcoin[f'close_{day}d'] = bitcoin['close'].shift(day)\n"
      ],
      "metadata": {
        "id": "xnbMT080pM8i"
      },
      "execution_count": 14,
      "outputs": []
    },
    {
      "cell_type": "code",
      "source": [
        "#Подготовка данных, разворачивание категориальных колонок\n",
        "bitcoin = pd.get_dummies(bitcoin, columns=['year', 'month', 'weekday'])\n",
        "bitcoin.drop('date', axis=1, inplace=True)\n",
        "bitcoin.drop('symbol', axis=1, inplace=True)\n",
        "\n",
        "#Удалим некорректные лишние строчки\n",
        "#bitcoin.dropna(inplace=True)\n",
        "\n",
        "#или заполнить лишние\n",
        "\n",
        "bitcoin.fillna(method='backfill', inplace=True)"
      ],
      "metadata": {
        "id": "lsv0h0B_psKJ"
      },
      "execution_count": 15,
      "outputs": []
    },
    {
      "cell_type": "code",
      "source": [
        "# Предскажем close\n",
        "\n",
        "bitcoin[\"target\"] = bitcoin[\"close\"].shift(-1)\n",
        "\n",
        "X = bitcoin[:-1].drop(\"target\", axis=1)\n",
        "y = bitcoin[:-1].target"
      ],
      "metadata": {
        "id": "jQ_HGuYvrvQP"
      },
      "execution_count": 16,
      "outputs": []
    },
    {
      "cell_type": "code",
      "source": [
        "from sklearn.model_selection import train_test_split\n",
        "\n",
        "X_train, X_test, y_train, y_test = train_test_split(X, y, test_size=0.33, random_state=42)"
      ],
      "metadata": {
        "id": "6SsIr_j6tYA4"
      },
      "execution_count": 17,
      "outputs": []
    },
    {
      "cell_type": "code",
      "source": [
        "from sklearn.linear_model import LinearRegression\n",
        "from sklearn.ensemble import RandomForestRegressor\n",
        "from sklearn.metrics import max_error, mean_absolute_error, mean_squared_error"
      ],
      "metadata": {
        "id": "NsQqfrITtX6I"
      },
      "execution_count": 18,
      "outputs": []
    },
    {
      "cell_type": "markdown",
      "source": [
        "**Линейная регрессия**"
      ],
      "metadata": {
        "id": "VLjmHvZQ_2-B"
      }
    },
    {
      "cell_type": "code",
      "source": [
        "model = LinearRegression()\n",
        "model.fit(X_train, y_train) \n",
        "train_score = model.score(X_train, y_train) # Насколько хорошо модель усвоила учебник\n",
        "test_score = model.score(X_test, y_test) # Насколько хорошо модель сдала экзамен\n",
        "\n",
        "y_pred = model.predict(X_test)\n",
        "\n",
        "print(\"train_score = \", train_score)\n",
        "print(\"test_score = \", test_score)\n",
        "print(\"max_error = \", max_error(y_pred, y_test))\n",
        "print(\"mean_absolute_error = \", mean_absolute_error(y_pred, y_test))\n",
        "print(\"mean_squared_error = \", mean_squared_error(y_pred, y_test))"
      ],
      "metadata": {
        "colab": {
          "base_uri": "https://localhost:8080/"
        },
        "id": "yIzBZKtJv6xI",
        "outputId": "58f596a3-1f09-425e-b250-106d242422e6"
      },
      "execution_count": 19,
      "outputs": [
        {
          "output_type": "stream",
          "name": "stdout",
          "text": [
            "train_score =  0.997868691008567\n",
            "test_score =  0.9971815850498759\n",
            "max_error =  6667.25776771213\n",
            "mean_absolute_error =  430.4002047514986\n",
            "mean_squared_error =  753882.9896639865\n"
          ]
        }
      ]
    },
    {
      "cell_type": "markdown",
      "source": [
        "**Случайный лес**"
      ],
      "metadata": {
        "id": "ju8uGp1y_8Rx"
      }
    },
    {
      "cell_type": "code",
      "source": [
        "model = RandomForestRegressor(n_estimators=5000)\n",
        "model.fit(X_train, y_train)\n",
        "train_score = model.score(X_train, y_train)  # Насколько хорошо модель усвоила учебник\n",
        "test_score = model.score(X_test, y_test)  # Насколько хорошо модель сдала экзамен\n",
        "y_pred = model.predict(X_test)\n",
        "\n",
        "print(\"train_score = \", train_score)\n",
        "print(\"test_score = \", test_score)\n",
        "print(\"max_error = \", max_error(y_pred, y_test))\n",
        "print(\"mean_absolute_error = \", mean_absolute_error(y_pred, y_test))\n",
        "print(\"mean_squared_error = \", mean_squared_error(y_pred, y_test))"
      ],
      "metadata": {
        "colab": {
          "base_uri": "https://localhost:8080/"
        },
        "id": "RCd3Hp3ty2cp",
        "outputId": "386bd5d0-987a-4af4-d0e1-c7011083c6c5"
      },
      "execution_count": 20,
      "outputs": [
        {
          "output_type": "stream",
          "name": "stdout",
          "text": [
            "train_score =  0.9996453122075383\n",
            "test_score =  0.9965529556050695\n",
            "max_error =  7561.32133514023\n",
            "mean_absolute_error =  434.70894973567647\n",
            "mean_squared_error =  922031.7731568315\n"
          ]
        }
      ]
    },
    {
      "cell_type": "code",
      "source": [
        "plt.plot(model.predict(X) - y)"
      ],
      "metadata": {
        "colab": {
          "base_uri": "https://localhost:8080/",
          "height": 283
        },
        "id": "oMD5k7MYzNEQ",
        "outputId": "00ee0439-59ca-461a-a7da-ab78f66803e5"
      },
      "execution_count": 21,
      "outputs": [
        {
          "output_type": "execute_result",
          "data": {
            "text/plain": [
              "[<matplotlib.lines.Line2D at 0x7ff92e401650>]"
            ]
          },
          "metadata": {},
          "execution_count": 21
        },
        {
          "output_type": "display_data",
          "data": {
            "text/plain": [
              "<Figure size 432x288 with 1 Axes>"
            ],
            "image/png": "[encoded data removed]"
          },
          "metadata": {
            "needs_background": "light"
          }
        }
      ]
    },
    {
      "cell_type": "markdown",
      "source": [
        "**Сравнене актуальных и предсказанных цен**"
      ],
      "metadata": {
        "id": "_h8T3BzqDgp6"
      }
    },
    {
      "cell_type": "code",
      "source": [
        "dat = pd.DataFrame({'Actual': y_test, 'Predicted': y_pred})\n",
        "dat\n"
      ],
      "metadata": {
        "colab": {
          "base_uri": "https://localhost:8080/",
          "height": 424
        },
        "id": "onaUTSgoC8iz",
        "outputId": "7aa85be4-fe85-4290-ac0d-881220590878"
      },
      "execution_count": 29,
      "outputs": [
        {
          "output_type": "execute_result",
          "data": {
            "text/plain": [
              "        Actual     Predicted\n",
              "2469  65474.00  63994.065310\n",
              "173     282.34    275.975390\n",
              "1229   6151.93   6327.173556\n",
              "2140  23427.00  22893.421279\n",
              "1199   7576.70   7684.996410\n",
              "...        ...           ...\n",
              "1849   8788.60   8831.377294\n",
              "306     436.02    437.915252\n",
              "287     319.24    326.748258\n",
              "694    1137.30   1041.964016\n",
              "308     464.84    435.009844\n",
              "\n",
              "[875 rows x 2 columns]"
            ],
            "text/html": [
              "\n",
              "  <div id=\"df-a73cd514-2d39-4785-89d8-315e75e77080\">\n",
              "    <div class=\"colab-df-container\">\n",
              "      <div>\n",
              "<style scoped>\n",
              "    .dataframe tbody tr th:only-of-type {\n",
              "        vertical-align: middle;\n",
              "    }\n",
              "\n",
              "    .dataframe tbody tr th {\n",
              "        vertical-align: top;\n",
              "    }\n",
              "\n",
              "    .dataframe thead th {\n",
              "        text-align: right;\n",
              "    }\n",
              "</style>\n",
              "<table border=\"1\" class=\"dataframe\">\n",
              "  <thead>\n",
              "    <tr style=\"text-align: right;\">\n",
              "      <th></th>\n",
              "      <th>Actual</th>\n",
              "      <th>Predicted</th>\n",
              "    </tr>\n",
              "  </thead>\n",
              "  <tbody>\n",
              "    <tr>\n",
              "      <th>2469</th>\n",
              "      <td>65474.00</td>\n",
              "      <td>63994.065310</td>\n",
              "    </tr>\n",
              "    <tr>\n",
              "      <th>173</th>\n",
              "      <td>282.34</td>\n",
              "      <td>275.975390</td>\n",
              "    </tr>\n",
              "    <tr>\n",
              "      <th>1229</th>\n",
              "      <td>6151.93</td>\n",
              "      <td>6327.173556</td>\n",
              "    </tr>\n",
              "    <tr>\n",
              "      <th>2140</th>\n",
              "      <td>23427.00</td>\n",
              "      <td>22893.421279</td>\n",
              "    </tr>\n",
              "    <tr>\n",
              "      <th>1199</th>\n",
              "      <td>7576.70</td>\n",
              "      <td>7684.996410</td>\n",
              "    </tr>\n",
              "    <tr>\n",
              "      <th>...</th>\n",
              "      <td>...</td>\n",
              "      <td>...</td>\n",
              "    </tr>\n",
              "    <tr>\n",
              "      <th>1849</th>\n",
              "      <td>8788.60</td>\n",
              "      <td>8831.377294</td>\n",
              "    </tr>\n",
              "    <tr>\n",
              "      <th>306</th>\n",
              "      <td>436.02</td>\n",
              "      <td>437.915252</td>\n",
              "    </tr>\n",
              "    <tr>\n",
              "      <th>287</th>\n",
              "      <td>319.24</td>\n",
              "      <td>326.748258</td>\n",
              "    </tr>\n",
              "    <tr>\n",
              "      <th>694</th>\n",
              "      <td>1137.30</td>\n",
              "      <td>1041.964016</td>\n",
              "    </tr>\n",
              "    <tr>\n",
              "      <th>308</th>\n",
              "      <td>464.84</td>\n",
              "      <td>435.009844</td>\n",
              "    </tr>\n",
              "  </tbody>\n",
              "</table>\n",
              "<p>875 rows × 2 columns</p>\n",
              "</div>\n",
              "      <button class=\"colab-df-convert\" onclick=\"convertToInteractive('df-a73cd514-2d39-4785-89d8-315e75e77080')\"\n",
              "              title=\"Convert this dataframe to an interactive table.\"\n",
              "              style=\"display:none;\">\n",
              "        \n",
              "  <svg xmlns=\"http://www.w3.org/2000/svg\" height=\"24px\"viewBox=\"0 0 24 24\"\n",
              "       width=\"24px\">\n",
              "    <path d=\"M0 0h24v24H0V0z\" fill=\"none\"/>\n",
              "    <path d=\"M18.56 5.44l.94 2.06.94-2.06 2.06-.94-2.06-.94-.94-2.06-.94 2.06-2.06.94zm-11 1L8.5 8.5l.94-2.06 2.06-.94-2.06-.94L8.5 2.5l-.94 2.06-2.06.94zm10 10l.94 2.06.94-2.06 2.06-.94-2.06-.94-.94-2.06-.94 2.06-2.06.94z\"/><path d=\"M17.41 7.96l-1.37-1.37c-.4-.4-.92-.59-1.43-.59-.52 0-1.04.2-1.43.59L10.3 9.45l-7.72 7.72c-.78.78-.78 2.05 0 2.83L4 21.41c.39.39.9.59 1.41.59.51 0 1.02-.2 1.41-.59l7.78-7.78 2.81-2.81c.8-.78.8-2.07 0-2.86zM5.41 20L4 18.59l7.72-7.72 1.47 1.35L5.41 20z\"/>\n",
              "  </svg>\n",
              "      </button>\n",
              "      \n",
              "  <style>\n",
              "    .colab-df-container {\n",
              "      display:flex;\n",
              "      flex-wrap:wrap;\n",
              "      gap: 12px;\n",
              "    }\n",
              "\n",
              "    .colab-df-convert {\n",
              "      background-color: #E8F0FE;\n",
              "      border: none;\n",
              "      border-radius: 50%;\n",
              "      cursor: pointer;\n",
              "      display: none;\n",
              "      fill: #1967D2;\n",
              "      height: 32px;\n",
              "      padding: 0 0 0 0;\n",
              "      width: 32px;\n",
              "    }\n",
              "\n",
              "    .colab-df-convert:hover {\n",
              "      background-color: #E2EBFA;\n",
              "      box-shadow: 0px 1px 2px rgba(60, 64, 67, 0.3), 0px 1px 3px 1px rgba(60, 64, 67, 0.15);\n",
              "      fill: #174EA6;\n",
              "    }\n",
              "\n",
              "    [theme=dark] .colab-df-convert {\n",
              "      background-color: #3B4455;\n",
              "      fill: #D2E3FC;\n",
              "    }\n",
              "\n",
              "    [theme=dark] .colab-df-convert:hover {\n",
              "      background-color: #434B5C;\n",
              "      box-shadow: 0px 1px 3px 1px rgba(0, 0, 0, 0.15);\n",
              "      filter: drop-shadow(0px 1px 2px rgba(0, 0, 0, 0.3));\n",
              "      fill: #FFFFFF;\n",
              "    }\n",
              "  </style>\n",
              "\n",
              "      <script>\n",
              "        const buttonEl =\n",
              "          document.querySelector('#df-a73cd514-2d39-4785-89d8-315e75e77080 button.colab-df-convert');\n",
              "        buttonEl.style.display =\n",
              "          google.colab.kernel.accessAllowed ? 'block' : 'none';\n",
              "\n",
              "        async function convertToInteractive(key) {\n",
              "          const element = document.querySelector('#df-a73cd514-2d39-4785-89d8-315e75e77080');\n",
              "          const dataTable =\n",
              "            await google.colab.kernel.invokeFunction('convertToInteractive',\n",
              "                                                     [key], {});\n",
              "          if (!dataTable) return;\n",
              "\n",
              "          const docLinkHtml = 'Like what you see? Visit the ' +\n",
              "            '<a target=\"_blank\" href=https://colab.research.google.com/notebooks/data_table.ipynb>data table notebook</a>'\n",
              "            + ' to learn more about interactive tables.';\n",
              "          element.innerHTML = '';\n",
              "          dataTable['output_type'] = 'display_data';\n",
              "          await google.colab.output.renderOutput(dataTable, element);\n",
              "          const docLink = document.createElement('div');\n",
              "          docLink.innerHTML = docLinkHtml;\n",
              "          element.appendChild(docLink);\n",
              "        }\n",
              "      </script>\n",
              "    </div>\n",
              "  </div>\n",
              "  "
            ]
          },
          "metadata": {},
          "execution_count": 29
        }
      ]
    },
    {
      "cell_type": "markdown",
      "source": [
        "**Фактические значени яблизки к прогнозным**"
      ],
      "metadata": {
        "id": "o8NFo7UbDrdS"
      }
    }
  ]
}